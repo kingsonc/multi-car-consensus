{
 "metadata": {
  "language_info": {
   "codemirror_mode": {
    "name": "ipython",
    "version": 3
   },
   "file_extension": ".py",
   "mimetype": "text/x-python",
   "name": "python",
   "nbconvert_exporter": "python",
   "pygments_lexer": "ipython3",
   "version": "3.7.3-final"
  },
  "orig_nbformat": 2,
  "kernelspec": {
   "name": "python37364bitvenvmrs376a93bb72ac5f4d569f4fde318a82936a",
   "display_name": "Python 3.7.3 64-bit ('venv-mrs37')",
   "language": "python"
  }
 },
 "nbformat": 4,
 "nbformat_minor": 2,
 "cells": [
  {
   "cell_type": "code",
   "execution_count": 1,
   "metadata": {},
   "outputs": [],
   "source": [
    "import os\n",
    "\n",
    "import numpy as np\n",
    "import pandas as pd\n",
    "\n",
    "from flow.controllers.base_controller import BaseController\n",
    "from flow.controllers.routing_controllers import ContinuousRouter\n",
    "from flow.core.experiment import Experiment\n",
    "from flow.core.params import EnvParams\n",
    "from flow.core.params import InitialConfig\n",
    "from flow.core.params import NetParams\n",
    "from flow.core.params import SumoParams\n",
    "from flow.core.params import VehicleParams\n",
    "from flow.core.params import SumoCarFollowingParams\n",
    "from flow.envs.ring.accel import AccelEnv\n",
    "from flow.networks.ring import RingNetwork"
   ]
  },
  {
   "cell_type": "code",
   "execution_count": 2,
   "metadata": {},
   "outputs": [],
   "source": [
    "class NaiveBaselineController(BaseController):\n",
    "    def __init__(self, veh_id, v0=30, s0=20, car_following_params=None):\n",
    "        \"\"\"\n",
    "        veh_id: unique vehicle identifier\n",
    "        v0: desirable velocity, in m/s\n",
    "        s0: headway threshold before braking, in m\n",
    "        \"\"\"\n",
    "        \n",
    "        BaseController.__init__(self, veh_id, car_following_params)\n",
    "        self.v0 = v0\n",
    "        self.s0 = s0\n",
    "\n",
    "    def get_accel(self, env):\n",
    "        v = env.k.vehicle.get_speed(self.veh_id)\n",
    "        lead_id = env.k.vehicle.get_leader(self.veh_id)\n",
    "        h = env.k.vehicle.get_headway(self.veh_id)\n",
    "\n",
    "        if h < 10:  # car in front less than 10m away\n",
    "            return -2\n",
    "        elif v < self.v0:\n",
    "            return 2\n",
    "        else:\n",
    "            return 0"
   ]
  },
  {
   "cell_type": "code",
   "execution_count": 3,
   "metadata": {},
   "outputs": [],
   "source": [
    "exp_name = \"ring_network_baseline\"\n",
    "\n",
    "num_vehicles = 20\n",
    "\n",
    "vehicles = VehicleParams()\n",
    "vehicles.add(\n",
    "    \"robot\",\n",
    "    acceleration_controller=(NaiveBaselineController, {}),\n",
    "    routing_controller=(ContinuousRouter, {}),\n",
    "    num_vehicles=num_vehicles,\n",
    ")\n",
    "\n",
    "net_params = NetParams(additional_params={\n",
    "    'length': 200*np.pi,  # 200m diameter\n",
    "    'lanes': 1, \n",
    "    'speed_limit': 30, \n",
    "    'resolution': 40,\n",
    "})\n",
    "\n",
    "# initial_config = InitialConfig(spacing=\"uniform\", perturbation=3)\n",
    "initial_config = InitialConfig(spacing=\"random\", min_gap=2)\n",
    "\n",
    "env_params = EnvParams(\n",
    "    additional_params={\n",
    "        'max_accel': 2, \n",
    "        'max_decel': 2, \n",
    "        'target_velocity': 30, \n",
    "        'sort_vehicles': False,\n",
    "    },\n",
    "    horizon=1000,  # number of time steps\n",
    ")\n",
    "\n",
    "sim_params = SumoParams(sim_step=0.1, render=True, emission_path='data')"
   ]
  },
  {
   "cell_type": "code",
   "execution_count": 4,
   "metadata": {},
   "outputs": [
    {
     "output_type": "stream",
     "name": "stdout",
     "text": [
      "Round 0, return: 258.39632963279075\n",
      "data/ring_network_baseline_20210413-1827071618334827.208069-0_emission.csv data\n",
      "Average, std returns: 258.39632963279075, 0.0\n",
      "Average, std velocities: 9.823673629442021, 0.0\n",
      "Average, std outflows: 0.0, 0.0\n",
      "Total time: 12.888464450836182\n",
      "steps/second: 103.95298336654702\n"
     ]
    }
   ],
   "source": [
    "flow_params = {\n",
    "    'exp_tag': exp_name,\n",
    "    'env_name': AccelEnv,\n",
    "    'network': RingNetwork,\n",
    "    'simulator': 'traci',\n",
    "    'sim': sim_params,\n",
    "    'env': env_params,\n",
    "    'net': net_params,\n",
    "    'veh': vehicles,\n",
    "    'initial': initial_config,\n",
    "}\n",
    "\n",
    "exp = Experiment(flow_params)\n",
    "\n",
    "# run the sumo simulation\n",
    "_ = exp.run(1, convert_to_csv=True)"
   ]
  },
  {
   "cell_type": "code",
   "execution_count": 5,
   "metadata": {},
   "outputs": [
    {
     "output_type": "stream",
     "name": "stdout",
     "text": [
      "data/ring_network_baseline_20210413-1827071618334827.208069\n"
     ]
    }
   ],
   "source": [
    "# view results\n",
    "\n",
    "emission_location = os.path.join(exp.env.sim_params.emission_path, exp.env.network.name)\n",
    "print(emission_location)"
   ]
  },
  {
   "cell_type": "code",
   "execution_count": 6,
   "metadata": {},
   "outputs": [
    {
     "output_type": "execute_result",
     "data": {
      "text/plain": [
       "   time       id           x         y     speed    headway leader_id  \\\n",
       "0   0.0  robot_0  117.557337 -0.058550  0.000000  59.482138   robot_1   \n",
       "1   0.1  robot_0  117.577115 -0.054909  0.198020  59.482138   robot_1   \n",
       "2   0.2  robot_0  117.616671 -0.047628  0.396040  59.482138   robot_1   \n",
       "3   0.3  robot_0  117.676004 -0.036706  0.594059  59.482138   robot_1   \n",
       "4   0.4  robot_0  117.755116 -0.022143  0.792079  59.482138   robot_1   \n",
       "\n",
       "   target_accel_with_noise_with_failsafe  target_accel_no_noise_no_failsafe  \\\n",
       "0                                    NaN                                NaN   \n",
       "1                                    2.0                                2.0   \n",
       "2                                    2.0                                2.0   \n",
       "3                                    2.0                                2.0   \n",
       "4                                    2.0                                2.0   \n",
       "\n",
       "   target_accel_with_noise_no_failsafe  target_accel_no_noise_with_failsafe  \\\n",
       "0                                  NaN                                  NaN   \n",
       "1                                  2.0                                  2.0   \n",
       "2                                  2.0                                  2.0   \n",
       "3                                  2.0                                  2.0   \n",
       "4                                  2.0                                  2.0   \n",
       "\n",
       "   realized_accel  road_grade edge_id  lane_number  distance  \\\n",
       "0        0.000000           0  bottom            0  0.000000   \n",
       "1        1.980198           0  bottom            0  0.019802   \n",
       "2        1.980198           0  bottom            0  0.059406   \n",
       "3        1.980198           0  bottom            0  0.118812   \n",
       "4        1.980198           0  bottom            0  0.198020   \n",
       "\n",
       "   relative_position follower_id  leader_rel_speed  \n",
       "0          17.347827     robot_8               0.0  \n",
       "1          17.367629     robot_8               0.0  \n",
       "2          17.407233     robot_8               0.0  \n",
       "3          17.466639     robot_8               0.0  \n",
       "4          17.545847     robot_8               0.0  "
      ],
      "text/html": "<div>\n<style scoped>\n    .dataframe tbody tr th:only-of-type {\n        vertical-align: middle;\n    }\n\n    .dataframe tbody tr th {\n        vertical-align: top;\n    }\n\n    .dataframe thead th {\n        text-align: right;\n    }\n</style>\n<table border=\"1\" class=\"dataframe\">\n  <thead>\n    <tr style=\"text-align: right;\">\n      <th></th>\n      <th>time</th>\n      <th>id</th>\n      <th>x</th>\n      <th>y</th>\n      <th>speed</th>\n      <th>headway</th>\n      <th>leader_id</th>\n      <th>target_accel_with_noise_with_failsafe</th>\n      <th>target_accel_no_noise_no_failsafe</th>\n      <th>target_accel_with_noise_no_failsafe</th>\n      <th>target_accel_no_noise_with_failsafe</th>\n      <th>realized_accel</th>\n      <th>road_grade</th>\n      <th>edge_id</th>\n      <th>lane_number</th>\n      <th>distance</th>\n      <th>relative_position</th>\n      <th>follower_id</th>\n      <th>leader_rel_speed</th>\n    </tr>\n  </thead>\n  <tbody>\n    <tr>\n      <th>0</th>\n      <td>0.0</td>\n      <td>robot_0</td>\n      <td>117.557337</td>\n      <td>-0.058550</td>\n      <td>0.000000</td>\n      <td>59.482138</td>\n      <td>robot_1</td>\n      <td>NaN</td>\n      <td>NaN</td>\n      <td>NaN</td>\n      <td>NaN</td>\n      <td>0.000000</td>\n      <td>0</td>\n      <td>bottom</td>\n      <td>0</td>\n      <td>0.000000</td>\n      <td>17.347827</td>\n      <td>robot_8</td>\n      <td>0.0</td>\n    </tr>\n    <tr>\n      <th>1</th>\n      <td>0.1</td>\n      <td>robot_0</td>\n      <td>117.577115</td>\n      <td>-0.054909</td>\n      <td>0.198020</td>\n      <td>59.482138</td>\n      <td>robot_1</td>\n      <td>2.0</td>\n      <td>2.0</td>\n      <td>2.0</td>\n      <td>2.0</td>\n      <td>1.980198</td>\n      <td>0</td>\n      <td>bottom</td>\n      <td>0</td>\n      <td>0.019802</td>\n      <td>17.367629</td>\n      <td>robot_8</td>\n      <td>0.0</td>\n    </tr>\n    <tr>\n      <th>2</th>\n      <td>0.2</td>\n      <td>robot_0</td>\n      <td>117.616671</td>\n      <td>-0.047628</td>\n      <td>0.396040</td>\n      <td>59.482138</td>\n      <td>robot_1</td>\n      <td>2.0</td>\n      <td>2.0</td>\n      <td>2.0</td>\n      <td>2.0</td>\n      <td>1.980198</td>\n      <td>0</td>\n      <td>bottom</td>\n      <td>0</td>\n      <td>0.059406</td>\n      <td>17.407233</td>\n      <td>robot_8</td>\n      <td>0.0</td>\n    </tr>\n    <tr>\n      <th>3</th>\n      <td>0.3</td>\n      <td>robot_0</td>\n      <td>117.676004</td>\n      <td>-0.036706</td>\n      <td>0.594059</td>\n      <td>59.482138</td>\n      <td>robot_1</td>\n      <td>2.0</td>\n      <td>2.0</td>\n      <td>2.0</td>\n      <td>2.0</td>\n      <td>1.980198</td>\n      <td>0</td>\n      <td>bottom</td>\n      <td>0</td>\n      <td>0.118812</td>\n      <td>17.466639</td>\n      <td>robot_8</td>\n      <td>0.0</td>\n    </tr>\n    <tr>\n      <th>4</th>\n      <td>0.4</td>\n      <td>robot_0</td>\n      <td>117.755116</td>\n      <td>-0.022143</td>\n      <td>0.792079</td>\n      <td>59.482138</td>\n      <td>robot_1</td>\n      <td>2.0</td>\n      <td>2.0</td>\n      <td>2.0</td>\n      <td>2.0</td>\n      <td>1.980198</td>\n      <td>0</td>\n      <td>bottom</td>\n      <td>0</td>\n      <td>0.198020</td>\n      <td>17.545847</td>\n      <td>robot_8</td>\n      <td>0.0</td>\n    </tr>\n  </tbody>\n</table>\n</div>"
     },
     "metadata": {},
     "execution_count": 6
    }
   ],
   "source": [
    "data = pd.read_csv(emission_location + '-0_emission.csv')\n",
    "data.head()"
   ]
  },
  {
   "cell_type": "code",
   "execution_count": null,
   "metadata": {},
   "outputs": [],
   "source": []
  }
 ]
}